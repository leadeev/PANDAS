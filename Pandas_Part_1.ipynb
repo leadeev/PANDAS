{
  "nbformat": 4,
  "nbformat_minor": 0,
  "metadata": {
    "colab": {
      "provenance": []
    },
    "kernelspec": {
      "name": "python3",
      "display_name": "Python 3"
    }
  },
  "cells": [
    {
      "cell_type": "markdown",
      "metadata": {
        "id": "iGmmrwi0cC08"
      },
      "source": [
        "# Mission 1\n",
        "\n",
        "![](https://i.imgur.com/Ax3pp2A.png)\n",
        "\n",
        "\n",
        "Create a \"fruit\" dataframe that reflects the above example **using a list** data structure\n",
        "\n",
        "[This resource could help you](https://datatofish.com/list-to-dataframe/)."
      ]
    },
    {
      "cell_type": "code",
      "metadata": {
        "id": "qaxzkL8aaM3O"
      },
      "source": [
        "import pandas as pd"
      ],
      "execution_count": null,
      "outputs": []
    },
    {
      "cell_type": "code",
      "source": [
        "fruits_list = [[30, 21]]\n",
        "pd.DataFrame(fruits_list, columns = ['Apples', 'Bananas'])"
      ],
      "metadata": {
        "id": "ri1GX3lQKWC0"
      },
      "execution_count": null,
      "outputs": []
    },
    {
      "cell_type": "markdown",
      "metadata": {
        "id": "SyGDBMkkcQ9W"
      },
      "source": [
        "# Mission 2\n",
        "\n",
        "Create a \"fruit_vendors\" dataframe that reflects the below example **using a dictionary** data structure\n",
        "\n",
        "![](https://i.imgur.com/CHPn7ZF.png)\n",
        "\n",
        "[This resource could help you.](https://pandas.pydata.org/pandas-docs/stable/reference/api/pandas.DataFrame.from_dict.html)"
      ]
    },
    {
      "cell_type": "code",
      "metadata": {
        "id": "K-giWZ5hcdRv"
      },
      "source": [
        "fruits_dict = {'2017 Sales':[35,21], '2018 Sales':[41,34]}\n",
        "pd.DataFrame.from_dict(fruits_dict, orient='index', columns=['Apples', 'Bananas'])"
      ],
      "execution_count": null,
      "outputs": []
    },
    {
      "cell_type": "markdown",
      "metadata": {
        "id": "XXBoq2QQeaWV"
      },
      "source": [
        "# Mission 3\n",
        "\n",
        "Use a loop to display the values from each column in the dataframe from mission 2.\n"
      ]
    },
    {
      "cell_type": "code",
      "metadata": {
        "id": "0Gjh7zAwejGv"
      },
      "source": [
        "for col in fruits_df.columns:\n",
        "  print('Values of column', col, ':', fruits_df[col].tolist())"
      ],
      "execution_count": null,
      "outputs": []
    },
    {
      "cell_type": "markdown",
      "metadata": {
        "id": "FJsldb56eCZ0"
      },
      "source": [
        "# Mission 4\n",
        "\n",
        "Delete the first row of the dataframe from mission 2\n",
        "\n",
        "[This resource could help you.](https://pandas.pydata.org/pandas-docs/stable/reference/api/pandas.DataFrame.drop.html)"
      ]
    },
    {
      "cell_type": "code",
      "metadata": {
        "id": "8NvM_j35gJTZ"
      },
      "source": [
        "fruits_df_row_deleted = fruits_df.drop('2017 Sales')\n",
        "fruits_df_row_deleted"
      ],
      "execution_count": null,
      "outputs": []
    },
    {
      "cell_type": "markdown",
      "metadata": {
        "id": "-XdmcyLqe66p"
      },
      "source": [
        "# Mission 5\n",
        "\n",
        "Delete the first column from the dataframe from mission 2.\n"
      ]
    },
    {
      "cell_type": "code",
      "metadata": {
        "id": "g9l_0VqghJn9"
      },
      "source": [
        "fruits_df_column_deleted = fruits_df.drop(columns='Apples')\n",
        "fruits_df_column_deleted"
      ],
      "execution_count": null,
      "outputs": []
    }
  ]
}